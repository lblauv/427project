{
 "cells": [
  {
   "cell_type": "markdown",
   "metadata": {},
   "source": [
    "# ECE 427 Final Project Instructions\n",
    "\n",
    "ECE 427 Fall 2020 Final Project  \n",
    "\n",
    "Professor: Line Roald  \n",
    "Main TA: David Sehloff \n",
    "\n",
    "**Collaboration:**  \n",
    "You will form teams of three people to collaborate on this project.  Collaboration between teams is discouraged.  \n",
    "\n",
    "**Project Files:**  \n",
    "This Julia notebook template (which you will use as a template for your report) and the network data files for the Wisconsin power system are available on the course website.  \n",
    "  \n",
    "**Project Deliverables:**  \n",
    "Julia Notebook Report – due **Tuesday, December 15 at midnight**  \n",
    "\"Poster Session\" – Wednesday, December 16 from 10am – 12pm.  \n",
    "\n",
    "### Project Description\n",
    "  \n",
    "The energy future of Wisconsin is in your hands! You and your partners have been tasked with developing a plan to replace coal generation with low-carbon energy resources, and propose transmission upgrades that may support the change. Specifically, you are asked to replace coal generation at Columbia and Oak Creek with low-carbon energy sources. You will propose the generation technology, siting and capacity of the different low-carbon energy sources, while considering the cost of implementing your plan. Remember that renewable energy such as wind or solar generation vary over time. Your upgrade plan can also include the installation of new transmission lines.  \n",
    "  \n",
    "For your grid design, you are asked to plan for two different days:  \n",
    "1.\tA stormy winter day with little sun, but a lot of wind where the load is higher than usual due to low temperatures.\n",
    "2.\tA sunny summer day with a lot of sun, but less wind where the load is high due to high temperature!\n",
    "  \n",
    "The resulting system must keep all transmission line flows and voltages within limits. Remember that you have to find **one** upgrade solution that works both in summer and in winter. \n",
    "\n",
    "**Goal and emphasis:**  \n",
    "Introduce enough replacement low-carbon generation into the power system to replace the coal plants. This very short study (1 month) is directed more heavily on feasibility, and it is intended to highlight some of the challenges and opportunities that arise with renewable energy sources.  Researching, discussing, and proposing a feasible solution that provides power to everyone in Wisconsin both in the summer and in the winter is needed to complete the project.  The cost of such a project is not inconsequential and should be considered and discussed.\n",
    "\n",
    "One main task of this project is to researching information required to make a reasonable, cost efficient plan to add generation and extend the transmission grid. This includes   \n",
    "• Properties of wind power: siting, cost, capacity factors, etc.  \n",
    "• Properties of solar power: siting, cost, capacity factors, etc.  \n",
    "• Other generation sources, etc.  \n",
    "• Cost of building new transmission lines.  \n",
    "  \n",
    "The second main task of the project is to ensure that your proposed solution is feasible, meaning that you can provide a feasible generation dispatch where (1) generators operate within their bounds, (2) the power flow on all transmission lines is within the limits and (3) all voltage magnitudes remain in the range between 0.95 and 1.05 pu (which is tighter than the existing limits, meaning we want to make the voltages better than they currently are!).\n",
    "\n",
    "In your report, remember to discuss the following:  \n",
    "• Explain your choice of location for renewable energy (or other replacement generation). For renewable energy, the location for the new generation needs to make sense.  For example, to assess wind power potential, you can refer to the Wind Resource Maps of Wisconsin, or other similar resources you may find. Likewise for solar and other sources.     \n",
    "• This is a costly project. Remember to consider the cost of implementing your plan when designing the new energy system.  \n",
    "• Discuss any challenges and solutions to ensure that voltages and power flows remain within acceptable limits. \n",
    "• How does your siting choices impact the power flows and voltages in the grid?  \n",
    "• Consider practical difficulties that might hinder your plan.  \n",
    "• Other important issues that can’t be covered in an idealized limited-time project. If there are things that you think should be considered in this project (in a real-life situation), but you cannot include due to lack of time or report length, mention those issues in your report.  \n",
    "\n",
    "**Constraints:**  \n",
    "• The target is 20 years in the future, so you can be creative and consider emerging technology for your design.   \n",
    "• For simplicity, you can assume that the power consumption is the same in summer and winter.  \n",
    "• Electrical parameters and limits for upgraded transmission lines or new transmission lines should be consistent with those appearing on similar lines in the existing model (and/or justified by appropriate references).  \n",
    "  \n",
    "**Resources:**  \n",
    "In general, a lot of information can be found at the Energy Information Agency, MidContinent ISO, NREL and other websites.  \n",
    "\n",
    "General advice on writing a report is available from the Writing Center:\n",
    "https://writing.wisc.edu/Handbook/index.html\n",
    "https://writing.wisc.edu/Handbook/SciRep/ScienceReport.html\n",
    "\n",
    "For more help on using Markdown, see [this reference](https://github.com/adam-p/markdown-here/wiki/Markdown-Cheatsheet).\n",
    "\n",
    "**IMPORTANT NOTE: NO PLAGIARISM!** \n",
    "Make sure to reference and cite the sources you obtain information from, and do not copy text. You have to write the report in your own words.\n",
    "\n",
    "**Referencing and paraphrasing:**  \n",
    "To avoid questions about plagiarism, familiarize yourself with standards for referencing, quoting and paraphrasing. The UW Madison Writing Center provide good resources:\n",
    "\n",
    "Quoting and paraphrasing: https://writing.wisc.edu/Handbook/QuotingSources.html  \n",
    "General information about references: https://writing.wisc.edu/Handbook/General/DocGeneral.html  \n",
    "For the references in your report, please use the IEEE style (with numbered references), described in those links:  \n",
    "https://writing.wisc.edu/Handbook/DocIEEE.html  \n",
    "https://writing.wisc.edu/Handbook/DocIEEE_Citations.html  \n",
    "https://writing.wisc.edu/Handbook/DocIEEE_References.html  \n",
    "\n",
    "\n",
    "### Poster Session\n",
    "\n",
    "After you have come up with your ideas for how to renew the Wisconsin electric system, you are invited to present your solution in a large event with other teams! You will create a virtual poster that you can use to present your project during a virtual poster session.  \n",
    "\n",
    "During the poster sessions, we will split the class in two. Groups 1-8 will present their posters from 10-11am, while the students from groups 9-16 will visit their posters, ask questions and do a peer evaluation. \n",
    "From 11am - noon, we will swithc roles. Group 9-16 will present their posters, while the students from group 1-8 will visit, ask questions and do evaluations.   \n",
    "\n",
    "When you think about how to create your poster, consider what information you need on that slide in order to present the main ideas and results from your project in about 2-3 minutes. Discuss how to make the presentation such that everyone in the group gets to present some part of the project.   \n",
    "\n",
    "When you create your virtual poster, remember that the screen is small, but it is allowed to zoom in and out. You can also keep additional \"backup material\" on hand that you can use to explain more details if the visitors to your poster have specific questions.\n"
   ]
  },
  {
   "cell_type": "markdown",
   "metadata": {},
   "source": [
    "# ECE 427 Final Project Report Template \n",
    "\n",
    "Below is a template for your project to help you get on the right track. We have also included the code you need to analyse the system and find your solution. The final report should be submitted as **working notebook** where we can run the code and replicate your results. However, we also expect that you include figures, tables and explanations such that we can understand your solutions without running the code by ourselves.\n"
   ]
  },
  {
   "cell_type": "markdown",
   "metadata": {},
   "source": [
    "## Executive summary (or abstract)\n",
    "\n",
    "A paragraph that describes the main findings of your project. This is for readers who want to understand the highlights, without having to read the full report. \n",
    "  \n",
    "  \n",
    "  \n",
    "  "
   ]
  },
  {
   "cell_type": "markdown",
   "metadata": {},
   "source": [
    "## 1. Introduction\n",
    "\n",
    "The introduction should be written assuming the reader is not aware of the purpose of the report in advance. (Assume the report is written for one of your fellow students in ECE 427 who has not seen the project assignment)"
   ]
  },
  {
   "cell_type": "markdown",
   "metadata": {},
   "source": [
    "## 2. Identification of sites for new generation and transmission\n",
    "\n",
    "Research and discuss possible upgrade options for the Wisconsin grid.  \n",
    "\n",
    "Based on your discussion above describe a reasonable, cost efficient plan to add generation and extend the transmission grid to enable low-carbon power generation in Wisconsin. This includes   \n",
    "• Properties of wind power: siting, cost, capacity factors, etc.  \n",
    "• Properties of solar power: siting, cost, capacity factors, etc.  \n",
    "• Other generation sources, etc.  \n",
    "• Cost of building new transmission lines.  \n",
    "\n",
    "Make sure to include [citations](https://en.wikipedia.org/wiki/Citation) where appropriate. You can also include pictures!"
   ]
  },
  {
   "cell_type": "markdown",
   "metadata": {},
   "source": [
    "## 3. Power flow analysis\n",
    "\n",
    "Use the code provided below to analyze the power flow in your proposed transmission upgrade solution! \n",
    "\n",
    "Instructions: \n",
    "1. Use the data and provided code for the existing system (as described in Wisconsin_Existing.m) to learn how to run a power flow, analyze the results and change the generation setpoints. If you wish, you can keep the code for the existing system as a reference in your final report, or you can remove it.\n",
    "2. Load the data for the proposed system (included in Wisconsin_Proposed.m), and add your proposed generators and transmission line extensions using the provided functions. For each generator or transmission line that you add, include a small description (i.e., describe how the generator(s)/transmission line(s) you are adding relate to the previous section)\n",
    "3. Choose appropriate generation values for the generators in the summer and the winter case. Run each case and check feasibility.  \n",
    "\n",
    "If your solution is not feasibile, reconsider where to add generation/transmission!"
   ]
  },
  {
   "cell_type": "markdown",
   "metadata": {},
   "source": [
    "### Setting up the code\n",
    "\n",
    "Run the two cells below to install the required packages and load these packages so they are available to you. While you only have to install the packages once, you have to load them every time you want to run the code."
   ]
  },
  {
   "cell_type": "code",
   "execution_count": null,
   "metadata": {},
   "outputs": [],
   "source": [
    "# Install the necessary packages (can be commented out after you have done this once)\n",
    "\n",
    "using Pkg # load the Pkg package!\n",
    "\n",
    "# Add Julia packages to analyze power systems\n",
    "\n",
    "# PowerModels for power flow analysis and optimal power flow\n",
    "Pkg.add(\"PowerModels\")\n",
    "\n",
    "# Packages for plotting the results\n",
    "Pkg.add(url=\"https://github.com/WISPO-POP/PowerVega.jl.git\")\n",
    "Pkg.add(\"ElectronDisplay\")\n",
    "\n",
    "# IpOpt as a solver for the non-linear equations\n",
    "# Pkg.add(\"Ipopt\")"
   ]
  },
  {
   "cell_type": "code",
   "execution_count": null,
   "metadata": {},
   "outputs": [],
   "source": [
    "# Load the power system analysis packages\n",
    "using PowerModels\n",
    "using PowerVega\n",
    "# using Ipopt\n",
    "using ElectronDisplay\n",
    "\n",
    "# Suppress some warnings and info from power models parsing \n",
    "# PowerModels.silence()\n",
    "PowerModels.logger_config!(\"error\")"
   ]
  },
  {
   "cell_type": "markdown",
   "metadata": {},
   "source": [
    "**RUN THE CELL WITH THE HELPER FUNCTIONS!** After you have loaded the packages but before you get continue, please run the **helper functions** cell at the bottom of the notebook!"
   ]
  },
  {
   "cell_type": "markdown",
   "metadata": {},
   "source": [
    "### Loading and analyzing the existing power grid data for Wisconsin\n",
    "\n",
    "Next, we will load the existing power grid data for Wisconsin. Make sure to keep the file \"Wisconsin_Existing.m\" in the same directory as your notebook!"
   ]
  },
  {
   "cell_type": "code",
   "execution_count": null,
   "metadata": {},
   "outputs": [],
   "source": [
    "# Load the Wisconsin data file\n",
    "existing_network = PowerModels.parse_file(\"Wisconsin_Existing.m\");"
   ]
  },
  {
   "cell_type": "markdown",
   "metadata": {},
   "source": [
    "Plot the network! This should open a new window. Note that the legend in the plot shows the loading of the transmission lines and generators. A red generator or transmission line indicates that the generator or transmission line is loaded to their limit! "
   ]
  },
  {
   "cell_type": "code",
   "execution_count": null,
   "metadata": {},
   "outputs": [],
   "source": [
    "# Plot the power flow results\n",
    "electrondisplay(plot_WI()+plot_power_flow_geo(existing_network));"
   ]
  },
  {
   "cell_type": "markdown",
   "metadata": {},
   "source": [
    "Next, we run a power flow and plot the results again (the results should look similar!)."
   ]
  },
  {
   "cell_type": "code",
   "execution_count": null,
   "metadata": {},
   "outputs": [],
   "source": [
    "# Run a power flow\n",
    "solve_power_flow!(existing_network)\n",
    "\n",
    "# Plot the power flow results (should still look similar!)\n",
    "electrondisplay(plot_WI()+plot_power_flow_geo(existing_network));"
   ]
  },
  {
   "cell_type": "markdown",
   "metadata": {},
   "source": [
    "While the map is very useful for understanding **where** problems such as overloads occur, it is often times very useful to print a summary of all the generators, transmission line flows and voltage magnitudes in the system. This helps us analyze for example how large the power flow are, or how much extra generation capacity we have on a generator. Below are three functions that help you print the generation dispatch, the power flows and the voltage magnitudes in the network.  \n",
    "\n",
    "**In your proposed solution, no generator or transmission line should be overloaded, and no bus should have either under or overvoltage.**"
   ]
  },
  {
   "cell_type": "code",
   "execution_count": null,
   "metadata": {},
   "outputs": [],
   "source": [
    "# Print the generator dispatch\n",
    "print_gen_dispatch(existing_network)"
   ]
  },
  {
   "cell_type": "code",
   "execution_count": null,
   "metadata": {},
   "outputs": [],
   "source": [
    "# Print the power flows\n",
    "print_power_flows(existing_network)"
   ]
  },
  {
   "cell_type": "code",
   "execution_count": null,
   "metadata": {},
   "outputs": [],
   "source": [
    "# Print voltage magnitudes\n",
    "print_voltage_magnitudes(existing_network)"
   ]
  },
  {
   "cell_type": "markdown",
   "metadata": {},
   "source": [
    "### Changing generation setpoints\n",
    "\n",
    "Once the generators and transmission lines are built, the main source of control in the power grid is **how much active power each generator is producing** and **setpoint for the voltage magnitude at their node**. Therefore, we often want to change the active power generation output and voltage magnitude of the generators!\n",
    "\n",
    "\n",
    "#### Changing active power generation\n",
    "In our example, we saw that one of the nuclear generators in Point Beach (Gen 5 at PNTBCH G1) was overloaded. This generator is the so-called slack bus generator which cover the losses in the system. To reduce the loading on this generator, we increase the active power generation at Generator 7 at Oak Creek to 118 MW and reduce the active power generation from Generator 5 at Point Beach to 510 MW. Here is some example code which shows how to change the generator setpoint (notice that we use per unit normalization when setting the values):"
   ]
  },
  {
   "cell_type": "code",
   "execution_count": null,
   "metadata": {},
   "outputs": [],
   "source": [
    "# Change generation active power setpoints\n",
    "\n",
    "# Set active power generation \"pg\" at generator 7 (Oak Creek) to 118 MW.\n",
    "gen_number = \"7\"    # Number of the generator where you want to change the voltage magnitude, use the quotes!\n",
    "pg = 118            # Active power in MW (we do the per unit normalization below)\n",
    "existing_network[\"gen\"][gen_number][\"pg\"] = pg/existing_network[\"baseMVA\"]\n",
    "\n",
    "# Set active power generation \"pg\" at generator 5 (Point Beach) to 510 MW.\n",
    "gen_number = \"5\"    # Number of the generator where you want to change the voltage magnitude, use the quotes!\n",
    "pg = 510            # Active power in MW (we do the per unit normalization below)\n",
    "existing_network[\"gen\"][gen_number][\"pg\"] = pg/existing_network[\"baseMVA\"];"
   ]
  },
  {
   "cell_type": "markdown",
   "metadata": {},
   "source": [
    "We rerun the power flow and plot the result, then print the generator outputs."
   ]
  },
  {
   "cell_type": "code",
   "execution_count": null,
   "metadata": {},
   "outputs": [],
   "source": [
    "# Run a power flow\n",
    "solve_power_flow!(existing_network)\n",
    "\n",
    "# Plot the power flow results (should still look similar!)\n",
    "electrondisplay(plot_WI()+plot_power_flow_geo(existing_network))\n",
    "\n",
    "# Print the generator dispatch\n",
    "print_gen_dispatch(existing_network)"
   ]
  },
  {
   "cell_type": "markdown",
   "metadata": {},
   "source": [
    "We see that the active power generation at generator 5 in Point Beach is still high, but no longer overloaded! \n",
    "\n",
    "#### Changing voltage magnitudes\n",
    "\n",
    "Let's take a look at the voltage magnitudes as well."
   ]
  },
  {
   "cell_type": "code",
   "execution_count": null,
   "metadata": {},
   "outputs": [],
   "source": [
    "# Print voltage magnitudes\n",
    "print_voltage_magnitudes(existing_network)"
   ]
  },
  {
   "cell_type": "markdown",
   "metadata": {},
   "source": [
    "We see that several of the voltage magnitudes in the existing system are below 0.95, and partcularly the voltage at bus 11 is quite low. In your future system design, you want to make sure that the voltage magnitudes are between 0.95 and 1.05 pu. \n",
    "\n",
    "The Colombia generators are the closest to bus 11, and their voltage magnitudes are currently set to 1. We try to increase their voltage magnitude setpoints to 1.05 pu. **Note:** We change the setpoints of both the generators since they are connected at a similar location. "
   ]
  },
  {
   "cell_type": "code",
   "execution_count": null,
   "metadata": {},
   "outputs": [],
   "source": [
    "# Change generation voltage magnitude\n",
    "# We change both the generator specified voltage magnitude and the specified PV bus magnitude to ensure that the results are consistent\n",
    "\n",
    "# Set voltage mangitude \"vm\" at generator 1 (Columbia 1) 1.02 MW.\n",
    "gen_number = \"1\"    # Number of the generator where you want to change the voltage magnitude, use the quotes!\n",
    "target_volt = 1.05  # Voltage in per unit\n",
    "\n",
    "# Code to do the update\n",
    "existing_network[\"gen\"][gen_number][\"vg\"] = target_volt\n",
    "existing_network[\"bus\"][string(existing_network[\"gen\"][gen_number][\"gen_bus\"])][\"vm\"] = existing_network[\"gen\"][gen_number][\"vg\"];\n",
    "\n",
    "\n",
    "# Set voltage mangitude \"vm\" at generator 1 (Columbia 1) 1.02 MW.\n",
    "gen_number = \"2\"    # Number of the generator where you want to change the voltage magnitude, use the quotes!\n",
    "target_volt = 1.05  # Voltage in per unit\n",
    "\n",
    "# Code to do the update\n",
    "existing_network[\"gen\"][gen_number][\"vg\"] = target_volt\n",
    "existing_network[\"bus\"][string(existing_network[\"gen\"][gen_number][\"gen_bus\"])][\"vm\"] = existing_network[\"gen\"][gen_number][\"vg\"];"
   ]
  },
  {
   "cell_type": "markdown",
   "metadata": {},
   "source": [
    "We rerun the power flow, then plot and print the results."
   ]
  },
  {
   "cell_type": "code",
   "execution_count": null,
   "metadata": {},
   "outputs": [],
   "source": [
    "# Run a power flow\n",
    "solve_power_flow!(existing_network)\n",
    "\n",
    "# Plot the power flow results (should still look similar!)\n",
    "electrondisplay(plot_WI()+plot_power_flow_geo(existing_network))\n",
    "\n",
    "# Print the generator dispatch\n",
    "print_gen_dispatch(existing_network)\n",
    "\n",
    "# Print voltage magnitudes\n",
    "print_voltage_magnitudes(existing_network)"
   ]
  },
  {
   "cell_type": "markdown",
   "metadata": {},
   "source": [
    "Another aspect of the system we can analyze is the total load and the total generation. This is helpful for two reasons:\n",
    "1. Sometimes, the AC power flow does not converge (as we will discuss in class). To check if our solutions make sense, we can check if the total load and the total generation are approximately the same. \n",
    "2. Generally, we expect the total generation to be a little higher than the total load, because the network has losses. The total losses in the system is the difference between the total active power generation and the total active load."
   ]
  },
  {
   "cell_type": "code",
   "execution_count": null,
   "metadata": {},
   "outputs": [],
   "source": [
    "# Compute the total load, generation and losses\n",
    "\n",
    "total_load = 0.0\n",
    "for i in keys(existing_network[\"load\"]) \n",
    "    total_load=total_load+existing_network[\"load\"][i][\"pd\"]*existing_network[\"baseMVA\"]\n",
    "end\n",
    "\n",
    "total_gen = 0.0\n",
    "for i in keys(existing_network[\"gen\"]) \n",
    "    total_gen=total_gen+existing_network[\"gen\"][i][\"pg\"]*existing_network[\"baseMVA\"]\n",
    "end\n",
    "\n",
    "println(\"Total load = $total_load MW, total generation = $total_gen MW and total losses = $(total_load-total_gen) MW \")"
   ]
  },
  {
   "cell_type": "markdown",
   "metadata": {},
   "source": [
    "### Loading the data for the future Wisconsin grid\n",
    "\n",
    "In the second network file \"Wisconsin_Proposed.m\", we have removed the coal generators at Columbia and Oak Creek. To give you a starting solution, we have increased the import of power from the World NW and the World SE by approximately 200 MW. \n",
    "\n",
    "Note: Before running the code, make sure to keep this network file in the same directory as the notebook!"
   ]
  },
  {
   "cell_type": "code",
   "execution_count": null,
   "metadata": {},
   "outputs": [],
   "source": [
    "# Load the Wisconsin data file\n",
    "proposed_network = PowerModels.parse_file(\"Wisconsin_Proposed.m\");"
   ]
  },
  {
   "cell_type": "markdown",
   "metadata": {},
   "source": [
    "Below, we plot the network for the new system. You can see where the generators were removed."
   ]
  },
  {
   "cell_type": "code",
   "execution_count": null,
   "metadata": {},
   "outputs": [],
   "source": [
    "# Plot the power flow results\n",
    "electrondisplay(plot_WI()+plot_power_flow_geo(proposed_network))"
   ]
  },
  {
   "cell_type": "markdown",
   "metadata": {},
   "source": [
    "We will try to run a power flow for this new network and plot the power flow solution."
   ]
  },
  {
   "cell_type": "code",
   "execution_count": null,
   "metadata": {},
   "outputs": [],
   "source": [
    "# Run a power flow\n",
    "solve_power_flow!(proposed_network)\n",
    "\n",
    "# Plot the power flow results\n",
    "electrondisplay(plot_WI()+plot_power_flow_geo(proposed_network))"
   ]
  },
  {
   "cell_type": "markdown",
   "metadata": {},
   "source": [
    "What we see here is that the power flow does not converge! There is no solution to the power flow if you replace the coal generation by these imports! In order to obtain a feasible solution where the power flow converge, you will have to add more generation/transmission."
   ]
  },
  {
   "cell_type": "markdown",
   "metadata": {},
   "source": [
    "### Adding generators and transmission lines\n",
    "\n",
    "From here, the design process is all yours! You need to add your proposed generators and transmission lines, choose the generator setpoints and make sure that the resulting power flow is feasible.  You can reuse the functions above, \n",
    "\n",
    "The functions for adding generators and lines will be discussed in the office hour/discussion section on Monday, Nov 22."
   ]
  },
  {
   "cell_type": "markdown",
   "metadata": {},
   "source": [
    "#### Adding a transmission line\n",
    "As an example, we add a 345kV transmission line from Green Bay (bus 10) to Wausau (bus 17). We use the `add_branch!` function. We need to specify the bus numbers, the Pi model parameters (the series resistance `br_r` and reactance `br_x` and shunt susceptance `shunt_b`), the thermal limit `rate_a`, the angle limits `angmin` and `angmax`, and whether or not the branch is a transformer, as follows:"
   ]
  },
  {
   "cell_type": "code",
   "execution_count": null,
   "metadata": {},
   "outputs": [],
   "source": [
    "f_bus = 10\n",
    "t_bus = 17\n",
    "br_r = 0.006\n",
    "br_x = 0.07\n",
    "shunt_b = 0.7\n",
    "rate_a = 200.0/proposed_network[\"baseMVA\"]\n",
    "angmin = 60.0*pi/180\n",
    "angmax = 60.0*pi/180\n",
    "transformer = false\n",
    "\n",
    "add_branch!(\n",
    "        proposed_network,\n",
    "        f_bus, t_bus,\n",
    "        br_r, br_x,\n",
    "        shunt_b,\n",
    "        rate_a,\n",
    "        angmin, angmax,\n",
    "        transformer\n",
    "    )"
   ]
  },
  {
   "cell_type": "code",
   "execution_count": null,
   "metadata": {},
   "outputs": [],
   "source": [
    "# Plot the power flow results\n",
    "electrondisplay(plot_WI()+plot_power_flow_geo(proposed_network))"
   ]
  },
  {
   "cell_type": "markdown",
   "metadata": {},
   "source": [
    "#### Adding a bus\n",
    "\n",
    "We want to add a 41.6kV bus at Wausau to connect to new generation. We need to specify the `bus_type`: (1: PQ, 2: PV, or 3: Slack), the base voltage in kV, the minimum and maximum voltage magnitude, and the latitude and longitude:"
   ]
  },
  {
   "cell_type": "code",
   "execution_count": null,
   "metadata": {},
   "outputs": [],
   "source": [
    "# Add a 41.6kV bus\n",
    "bus_type = 2\n",
    "vbase_kv = 41.6\n",
    "vmin = 0.95\n",
    "vmax = 1.05\n",
    "vm = 1.01\n",
    "xcoord = 45.146\n",
    "ycoord = -89.637\n",
    "\n",
    "new_bus = add_bus!(\n",
    "    proposed_network,\n",
    "    bus_type,\n",
    "    vbase_kv,\n",
    "    vmin,\n",
    "    vmax,\n",
    "    xcoord,\n",
    "    ycoord,\n",
    "    bus_name=\"WAUSAU 41.6\",\n",
    "    vm=vm\n",
    "    )"
   ]
  },
  {
   "cell_type": "markdown",
   "metadata": {},
   "source": [
    "#### Adding a generator\n",
    "Now we add a generator at this new bus, specifying the active power setpoint `pg` and the limits on reative and active power, `qmax`, `qmin`, `pmax`, and `pmin`. We also give the optional coordinate arguments to place the generator on the map."
   ]
  },
  {
   "cell_type": "code",
   "execution_count": null,
   "metadata": {},
   "outputs": [],
   "source": [
    "# Add a single generator\n",
    "gen_bus = new_bus\n",
    "pg = 100.0/proposed_network[\"baseMVA\"]\n",
    "qmax = 50.0/proposed_network[\"baseMVA\"]\n",
    "qmin = -50.0/proposed_network[\"baseMVA\"]\n",
    "pmax = 100.0/proposed_network[\"baseMVA\"]\n",
    "pmin = 0.0/proposed_network[\"baseMVA\"]\n",
    "\n",
    "add_gen!(\n",
    "        proposed_network,\n",
    "        gen_bus,\n",
    "        pg,\n",
    "        qmax, qmin,\n",
    "        pmax, pmin,\n",
    "        xcoord=45.346,\n",
    "        ycoord=-89.637\n",
    ")"
   ]
  },
  {
   "cell_type": "markdown",
   "metadata": {},
   "source": [
    "#### Adding a transformer\n",
    "We use the `add_branch!` function again to add a transformer between the 345 and 41.6 kV buses in Wausau. We simply set the `transformer` variable to true and adjust the parameters accordingly."
   ]
  },
  {
   "cell_type": "code",
   "execution_count": null,
   "metadata": {},
   "outputs": [],
   "source": [
    "# Add the transformer to connect the 22kV and 345kV buses\n",
    "f_bus = new_bus\n",
    "t_bus = 17\n",
    "br_r = 0.0003\n",
    "br_x = 0.01\n",
    "shunt_b = 0.0\n",
    "rate_a = 100.0/proposed_network[\"baseMVA\"]\n",
    "angmin = 60.0*pi/180\n",
    "angmax = 60.0*pi/180\n",
    "transformer = true\n",
    "\n",
    "add_branch!(\n",
    "        proposed_network,\n",
    "        f_bus, t_bus,\n",
    "        br_r, br_x,\n",
    "        shunt_b,\n",
    "        rate_a,\n",
    "        angmin, angmax,\n",
    "        transformer\n",
    "    )"
   ]
  },
  {
   "cell_type": "markdown",
   "metadata": {},
   "source": [
    "Now we try solving the power flow again."
   ]
  },
  {
   "cell_type": "code",
   "execution_count": null,
   "metadata": {},
   "outputs": [],
   "source": [
    "# Run a power flow\n",
    "solve_power_flow!(proposed_network)\n",
    "\n",
    "# Plot the power flow results\n",
    "electrondisplay(plot_WI()+plot_power_flow_geo(proposed_network))\n",
    "\n",
    "# Compute the total load, generation and losses\n",
    "total_load = 0.0\n",
    "for i in keys(proposed_network[\"load\"]) \n",
    "    total_load=total_load+proposed_network[\"load\"][i][\"pd\"]*proposed_network[\"baseMVA\"]\n",
    "end\n",
    "\n",
    "total_gen = 0.0\n",
    "for i in keys(proposed_network[\"gen\"]) \n",
    "    total_gen=total_gen+proposed_network[\"gen\"][i][\"pg\"]*proposed_network[\"baseMVA\"]\n",
    "end\n",
    "\n",
    "println(\"Total load = $total_load MW, total generation = $total_gen MW and total losses = $(total_load-total_gen) MW \")"
   ]
  },
  {
   "cell_type": "markdown",
   "metadata": {},
   "source": [
    "We see the changes applied on the map, but the solver still didn't converge to a power flow solution. We need your help!\n",
    "\n",
    "Some hints to finding a good power flow solution:\n",
    "- Remember to approximately match the total load and the total generation in the network when you start out. If you don't do this, the slack bus (at Point Beach) will make up for the difference, but it is better to not rely too much o this.\n",
    "- Check which lines have large power flows and large voltage drops. Consider changing the generation or install new generators to reduce the power flows (i.e., move generation closer to the load).\n",
    "- If you have low voltages at a node, it also helps to increase the reactive power generation near that node!"
   ]
  },
  {
   "cell_type": "markdown",
   "metadata": {},
   "source": [
    "## 4. Discussion of Results \n",
    "\n",
    "Based on the research in Section 2 and the power flow analysis in Section 3, discuss the benefits and strenghts of your solution, possible drawbacks/improvements that could be done if you had more time."
   ]
  },
  {
   "cell_type": "markdown",
   "metadata": {},
   "source": [
    "## 5. Conclusion\n",
    "\n",
    "Summarize your conclusions and recommendations for how to enable low-carbon generation in the Wisconsin grid."
   ]
  },
  {
   "cell_type": "markdown",
   "metadata": {},
   "source": [
    "## Appendix: Helper functions\n",
    "\n",
    "The helper functions in the cell below are created to make your analysis easier. Please run the helper functions cell before proceeding with the analysis above. **You do not have to understand how the helper functions work internally**, just how to use them (as explained above). "
   ]
  },
  {
   "cell_type": "code",
   "execution_count": null,
   "metadata": {},
   "outputs": [],
   "source": [
    "############## FUNCTIONS TO ADD NETWORK ELEMENTS #################\n",
    "\n",
    "# Function to add a generator to the network\n",
    "function add_gen!(\n",
    "        network,\n",
    "        gen_bus::Int,\n",
    "        pg::Float64,\n",
    "        qmax::Float64, qmin::Float64,\n",
    "        pmax::Float64=0.0, pmin::Float64=0.0;\n",
    "        qg::Float64=0.0,\n",
    "        gen_status::Int=1,\n",
    "        mu_pmin::Float64=0.0, mu_pmax::Float64=0.0, mu_qmin::Float64=0.0, mu_qmax::Float64=0.0,\n",
    "        pc1::Float64=0.0, pc2::Float64=0.0,\n",
    "        qc1min::Float64=0.0, qc1max::Float64=0.0, qc2min::Float64=0.0, qc2max::Float64=0.0,\n",
    "        ramp_agc::Float64=0.0, ramp_10::Float64=0.0, ramp_30::Float64=0.0, ramp_q::Float64=0.0,\n",
    "        apf::Float64=0.0,\n",
    "        model::Int=1,\n",
    "        startup::Float64=0.0, shutdown::Float64=0.0,\n",
    "        ncost::Int=0, cost::Array{Float64}=Float64[],\n",
    "        xcoord::Float64=NaN, ycoord::Float64=NaN\n",
    "    )\n",
    "    # Find the highest index among the generators already in the network so that the new one is added in order\n",
    "    gen_indices = parse.(Int64, keys(network[\"gen\"]))\n",
    "    new_gen_index = maximum(gen_indices) + 1\n",
    "    \n",
    "    # Set the voltage setpoint to match the bus voltage\n",
    "    vg = network[\"bus\"][\"$gen_bus\"][\"vm\"]\n",
    "    \n",
    "    if pmax < pg\n",
    "        pmax = pg\n",
    "    end\n",
    "    \n",
    "    # Define a dictionary with all the values PowerModels expects for a generator\n",
    "    new_gen_dict = Dict{String, Any}(\n",
    "        \"index\"      => new_gen_index,\n",
    "        \"gen_bus\"    => gen_bus,\n",
    "        \"pg\"         => pg,\n",
    "        \"qmax\"       => qmax,\n",
    "        \"qmin\"       => qmin,\n",
    "        \"qg\"         => qg,\n",
    "        \"pmax\"       => pmax,\n",
    "        \"pmin\"       => pmin,\n",
    "        \"vg\"         => vg,\n",
    "        \"mbase\"      => network[\"baseMVA\"],\n",
    "        \"source_id\"  => Any[\"gen\", new_gen_index],\n",
    "        \"gen_status\" => gen_status,\n",
    "        \"mu_pmin\"    => mu_pmin,\n",
    "        \"mu_pmax\"    => mu_pmax,\n",
    "        \"mu_qmin\"    => mu_qmin,\n",
    "        \"mu_qmax\"    => mu_qmax,\n",
    "        \"pc1\"        => pc1,\n",
    "        \"pc2\"        => pc2,\n",
    "        \"qc1min\"     => qc1min,\n",
    "        \"qc2min\"     => qc2min,\n",
    "        \"qc1max\"     => qc1max,\n",
    "        \"qc2max\"     => qc2max,\n",
    "        \"ramp_agc\"   => ramp_agc,\n",
    "        \"ramp_q\"     => ramp_q,\n",
    "        \"ramp_10\"    => ramp_10,\n",
    "        \"ramp_30\"    => ramp_30,\n",
    "        \"apf\"        => apf,\n",
    "        \"ncost\"      => ncost,\n",
    "        \"model\"      => model,\n",
    "        \"shutdown\"   => shutdown,\n",
    "        \"startup\"    => startup,\n",
    "        \"cost\"       => cost,\n",
    "        \"xcoord_1\"   => xcoord,\n",
    "        \"ycoord_1\"   => ycoord\n",
    "    )\n",
    "    \n",
    "    # Add this dictionary to the network data under the \"gen\" key\n",
    "    network[\"gen\"][\"$new_gen_index\"] = new_gen_dict\n",
    "    \n",
    "    println(\"Added a generator with index $new_gen_index at bus $gen_bus.\")\n",
    "end\n",
    "\n",
    "\n",
    "# Function to add a branch to the network\n",
    "function add_branch!(\n",
    "        network,\n",
    "        f_bus::Int, t_bus::Int,\n",
    "        br_r::Float64, br_x::Float64,\n",
    "        shunt_b::Float64,\n",
    "        rate_a::Float64,\n",
    "        angmin::Float64, angmax::Float64,\n",
    "        transformer::Bool;\n",
    "        br_status::Int=1,\n",
    "        tap::Float64=1.0,\n",
    "        shift::Float64=0.0,\n",
    "        rate_b::Float64=-1.0, rate_c::Float64=-1.0,\n",
    "        pf::Float64=0.0, pt::Float64=0.0,\n",
    "        qf::Float64=0.0, qt::Float64=0.0,\n",
    "        mu_angmin::Float64=0.0, mu_angmax::Float64=0.0,\n",
    "        mu_sf::Float64=0.0, mu_st::Float64=0.0\n",
    "    )\n",
    "    # Find the highest index among the branches already in the network so that the new one is added in order\n",
    "    branch_indices = parse.(Int64, keys(network[\"branch\"]))\n",
    "    new_branch_index = maximum(branch_indices) + 1\n",
    "    \n",
    "    # Set the emergency thermal limits as the same as the normal limits if they were not set\n",
    "    if rate_b < 0\n",
    "        rate_b = rate_a\n",
    "    end\n",
    "    if rate_c < 0\n",
    "        rate_c = rate_a\n",
    "    end\n",
    "    \n",
    "    b_fr = shunt_b/2\n",
    "    b_to = shunt_b/2\n",
    "    \n",
    "    g_fr = 0.0\n",
    "    g_to = 0.0\n",
    "    \n",
    "    # Define a dictionary with all the values PowerModels expects for a branch\n",
    "    new_branch_dict = Dict{String, Any}(\n",
    "        \"index\"=>new_branch_index,\n",
    "        \"f_bus\"=>f_bus,\n",
    "        \"t_bus\"=>t_bus,\n",
    "        \"source_id\"=>Any[\"branch\", new_branch_index],\n",
    "        \"br_status\"=>br_status,\n",
    "        \"br_r\"=>br_r,\n",
    "        \"br_x\"=>br_x,\n",
    "        \"b_fr\"=>b_fr,\n",
    "        \"g_fr\"=>g_fr,\n",
    "        \"b_to\"=>b_to,\n",
    "        \"g_to\"=>g_to,\n",
    "        \"rate_a\"=>rate_a,\n",
    "        \"rate_b\"=>rate_b,\n",
    "        \"rate_c\"=>rate_c,\n",
    "        \"angmin\"=>angmin,\n",
    "        \"angmax\"=>angmax,\n",
    "        \"transformer\"=>transformer,\n",
    "        \"tap\"=>tap,\n",
    "        \"shift\"=>shift,\n",
    "        \"pf\"=>pf,\n",
    "        \"pt\"=>pt,\n",
    "        \"qf\"=>qf,\n",
    "        \"qt\"=>qt,\n",
    "        \"mu_angmin\"=>mu_angmin,\n",
    "        \"mu_angmax\"=>mu_angmax,\n",
    "        \"mu_sf\"=>mu_sf,\n",
    "        \"mu_st\"=>mu_st\n",
    "    )\n",
    "    \n",
    "    # Add this dictionary to the network data under the \"branch\" key\n",
    "    network[\"branch\"][\"$new_branch_index\"] = new_branch_dict\n",
    "    \n",
    "    println(\"Added a branch with index $new_branch_index from bus $f_bus to $t_bus.\")\n",
    "end\n",
    "\n",
    "# Function to add a bus to the network\n",
    "function add_bus!(\n",
    "        network,\n",
    "        bus_type::Int,\n",
    "        vbase_kv::Float64,\n",
    "        vmin::Float64, vmax::Float64,\n",
    "        xcoord::Float64, ycoord::Float64;\n",
    "        bus_name::String=\"\",\n",
    "        area::Int=1, zone::Int=1,\n",
    "        va::Float64=0.0, vm::Float64=1.0,\n",
    "        mu_vmax::Float64=0.0, mu_vmin::Float64=0.0,\n",
    "        lam_p::Float64=0.0, lam_q::Float64=0.0,\n",
    "        index::Int64=-1\n",
    "    )\n",
    "    # If no index is given, find the highest index among the buses already in the network\n",
    "    # so that the new one is added in order\n",
    "    if index < 0\n",
    "        bus_indices = parse.(Int64, keys(network[\"bus\"]))\n",
    "        new_bus_index = maximum(bus_indices) + 1\n",
    "    else\n",
    "        new_bus_index = index\n",
    "    end\n",
    "    \n",
    "    # Define a dictionary with all the values PowerModels expects for a bus\n",
    "    new_bus_dict = Dict{String, Any}(\n",
    "        \"index\"=>new_bus_index,\n",
    "        \"bus_i\"=>new_bus_index,\n",
    "        \"bus_type\"=>bus_type,\n",
    "        \"base_kv\"=>vbase_kv,\n",
    "        \"vmin\"=>vmin,\n",
    "        \"vmax\"=>vmax,\n",
    "        \"area\"=>area,\n",
    "        \"zone\"=>zone,\n",
    "        \"name\"=>bus_name,\n",
    "        \"source_id\"=>Any[\"bus\", new_bus_index],\n",
    "        \"xcoord_1\"=>xcoord,\n",
    "        \"ycoord_1\"=>ycoord,\n",
    "        \"va\"=>va,\n",
    "        \"vm\"=>vm,\n",
    "        \"mu_vmax\"=>mu_vmax,\n",
    "        \"mu_vmin\"=>mu_vmin,\n",
    "        \"lam_p\"=>lam_p,\n",
    "        \"lam_q\"=>lam_q\n",
    "    )\n",
    "    \n",
    "    # Add this dictionary to the network data under the \"bus\" key\n",
    "    network[\"bus\"][\"$new_bus_index\"] = new_bus_dict\n",
    "    \n",
    "    println(\"Added a bus with index $new_bus_index.\")\n",
    "    return new_bus_index\n",
    "end\n",
    "\n",
    "\n",
    "# Function to add a load to the network\n",
    "function add_load!(\n",
    "        network,\n",
    "        bus::Int,\n",
    "        pd::Float64, qd::Float64;\n",
    "        status::Int=1\n",
    "    )\n",
    "    # Find the highest index among the loads already in the network so that the new one is added in order\n",
    "    load_indices = parse.(Int64, keys(network[\"load\"]))\n",
    "    new_load_index = maximum(load_indices) + 1\n",
    "    \n",
    "    # Define a dictionary with all the values PowerModels expects for a load\n",
    "    new_load_dict = Dict{String, Any}(\n",
    "        \"index\"=>new_load_index,\n",
    "        \"load_bus\"=>bus,\n",
    "        \"source_id\"=>Any[\"bus\", bus],\n",
    "        \"pd\"=>pd,\n",
    "        \"qd\"=>qd,\n",
    "        \"status\"=>status\n",
    "    )\n",
    "    \n",
    "    # Add this dictionary to the network data under the \"load\" key\n",
    "    network[\"load\"][\"$new_load_index\"] = new_load_dict\n",
    "    \n",
    "    println(\"Added a load with index $new_load_index at bus $bus.\")\n",
    "end\n",
    "\n",
    "# Function to scale loads in the network\n",
    "function scale_loads!(\n",
    "        network,\n",
    "        scale_factor::Float64;\n",
    "        load=[],\n",
    "        bus=[]\n",
    "    )\n",
    "    \n",
    "    loads_scaled = []\n",
    "    bus_loads_scaled = []\n",
    "    # Scale the loads with the given indices, or if bus indices are given, at those buses.\n",
    "    # If no load of bus arguments are given, scale all loads in the system.\n",
    "    if length(load) > 0\n",
    "        for (idx, l) in network[\"load\"]\n",
    "            if parse(Int,idx) in load\n",
    "                l[\"pd\"] *= scale_factor\n",
    "                l[\"qd\"] *= scale_factor\n",
    "                push!(loads_scaled, idx)\n",
    "                push!(bus_loads_scaled, l[\"load_bus\"])\n",
    "            end\n",
    "        end\n",
    "    elseif length(bus) > 0\n",
    "        for (idx, l) in network[\"load\"]\n",
    "            if l[\"load_bus\"] in bus\n",
    "                l[\"pd\"] *= scale_factor\n",
    "                l[\"qd\"] *= scale_factor\n",
    "                push!(loads_scaled, idx)\n",
    "                push!(bus_loads_scaled, l[\"load_bus\"])\n",
    "            end\n",
    "        end\n",
    "    else # if neither load nor bus is specified, scale all loads\n",
    "        for (idx, l) in network[\"load\"]\n",
    "            l[\"pd\"] *= scale_factor\n",
    "            l[\"qd\"] *= scale_factor\n",
    "            push!(loads_scaled, idx)\n",
    "            push!(bus_loads_scaled, l[\"load_bus\"])\n",
    "        end\n",
    "    end\n",
    "    \n",
    "    println(\"Scaled load(s) $loads_scaled at bus(es) $bus_loads_scaled by $scale_factor.\")\n",
    "end\n",
    "\n",
    "############ PRINTING FUNCTIONS ################\n",
    "\n",
    "# Function to print the active and reactive power output of generators\n",
    "function print_gen_dispatch(network_data)\n",
    "    \n",
    "    for i in keys(network_data[\"gen\"])\n",
    "        # active and reactive power generation\n",
    "        p_gen = network_data[\"gen\"][i][\"pg\"]*network_data[\"gen\"][i][\"mbase\"]\n",
    "        q_gen = network_data[\"gen\"][i][\"qg\"]*network_data[\"gen\"][i][\"mbase\"]\n",
    "        # maximum allowable active and reactive power generation\n",
    "        p_max = network_data[\"gen\"][i][\"pmax\"]*network_data[\"gen\"][i][\"mbase\"]\n",
    "        q_max = network_data[\"gen\"][i][\"qmax\"]*network_data[\"gen\"][i][\"mbase\"]\n",
    "        # bus location of the generator\n",
    "        bus = network_data[\"bus\"][string(network_data[\"gen\"][i][\"gen_bus\"])][\"name\"]\n",
    "\n",
    "        # printing the results\n",
    "        if p_gen>p_max\n",
    "            println(\"OVERLOAD!!!!! Gen $i at bus $bus: OVERLOAD!!!!!\") \n",
    "        elseif p_gen>=0.9*p_max\n",
    "            println(\"Gen $i at bus $bus: HIGH LOAD\")\n",
    "        else\n",
    "            println(\"Gen $i at bus $bus:\")\n",
    "        end\n",
    "        println(\"Active power: $p_gen (max is $p_max)\")\n",
    "        println(\"Reactive power: $q_gen (max is $q_max)\")\n",
    "        println()\n",
    "    end\n",
    "    \n",
    "end\n",
    "\n",
    "\n",
    "# Printing the branch data\n",
    "\n",
    "function print_power_flows(network_data)\n",
    "    \n",
    "    for i in keys(network_data[\"branch\"])\n",
    "        # Power flow at from-bus\n",
    "        pf = network_data[\"branch\"][i][\"pf\"]*network_data[\"baseMVA\"]\n",
    "        qf = network_data[\"branch\"][i][\"qf\"]*network_data[\"baseMVA\"]\n",
    "        sf = sqrt(pf^2 + qf^2)\n",
    "\n",
    "        # Power flow at to-bus\n",
    "        pt = network_data[\"branch\"][i][\"pt\"]*network_data[\"baseMVA\"]\n",
    "        qt = network_data[\"branch\"][i][\"qt\"]*network_data[\"baseMVA\"]\n",
    "        st = sqrt(pt^2 + qt^2)\n",
    "\n",
    "        # Maximum power flow\n",
    "        smax = network_data[\"branch\"][i][\"rate_a\"]*network_data[\"baseMVA\"]\n",
    "        sflow = max(sf, st)\n",
    "\n",
    "        # From-bus and to-bus\n",
    "        f_bus = network_data[\"bus\"][string(network_data[\"branch\"][i][\"f_bus\"])][\"name\"]\n",
    "        t_bus = network_data[\"bus\"][string(network_data[\"branch\"][i][\"t_bus\"])][\"name\"]\n",
    "\n",
    "        if sflow>smax\n",
    "            println(\"OVERLOAD!!!!! Line $i from $f_bus to $t_bus: OVERLOAD!!!!!\") \n",
    "        elseif sflow>=0.9*smax\n",
    "            println(\"Line $i from $f_bus to $t_bus: HIGH LOAD\")\n",
    "        else\n",
    "            println(\"Line $i from $f_bus to $t_bus:\")\n",
    "        end\n",
    "        println(\"Power flow: $sflow (max is $smax)\")\n",
    "        println()\n",
    "    end\n",
    "    \n",
    "end\n",
    "\n",
    "# Printing the branch data\n",
    "\n",
    "function print_voltage_magnitudes(network_data)\n",
    "    \n",
    "    for i in keys(network_data[\"bus\"])\n",
    "        \n",
    "        # Read in voltage data\n",
    "        vm = network_data[\"bus\"][i][\"vm\"]\n",
    "        vmax = network_data[\"bus\"][i][\"vmax\"]\n",
    "        vmin = network_data[\"bus\"][i][\"vmin\"]\n",
    "        \n",
    "        if vm>vmax\n",
    "            println(\"OVERVOLTAGE!!!!! Bus $i: Voltage magnitude is $vm OVERVOLTAGE!!!!!\") \n",
    "        elseif vm<vmin\n",
    "            println(\"UNDERVOLTAGE!!!!! Bus $i: Voltage magnitude is $vm UNDERVOLTAGE!!!!!\") \n",
    "        else\n",
    "            println(\"Bus $i: Voltage magnitude is $vm\")\n",
    "        end\n",
    "    end\n",
    "    \n",
    "end\n",
    "\n",
    "function solve_power_flow!(network; kwargs...)\n",
    "    \n",
    "    result = PowerModels.compute_ac_pf(network; kwargs...)\n",
    "    \n",
    "    # Check if the power flow found a solution\n",
    "    if \"bus\" in keys(result)\n",
    "        println(\"The solver found an AC power flow solution.\")\n",
    "        success = true\n",
    "        # Apply the solution to the network data\n",
    "        PowerModels.update_data!(network, result)\n",
    "        \n",
    "        # Also calculate and apply the branch flows\n",
    "        flows = calc_branch_flow_ac(network)\n",
    "        update_data!(network, flows)\n",
    "    else # if the results don't contain \"bus\" data, the power flow did not find a solution\n",
    "        println(\"WARNING! The solver did not find an AC power flow solution! The values of the power flow variables in the network are not a power flow solution.\")\n",
    "        success = false\n",
    "        PowerModels.logger_config!(\"warn\")\n",
    "        result = PowerModels.compute_ac_pf(network; kwargs...)\n",
    "        PowerModels.logger_config!(\"error\")\n",
    "    end\n",
    "    \n",
    "    # Return a Boolean indicating whether the solver successfully found a solution\n",
    "    return success\n",
    "end"
   ]
  },
  {
   "cell_type": "code",
   "execution_count": null,
   "metadata": {},
   "outputs": [],
   "source": []
  }
 ],
 "metadata": {
  "@webio": {
   "lastCommId": null,
   "lastKernelId": null
  },
  "kernelspec": {
   "display_name": "Julia 1.5.2",
   "language": "julia",
   "name": "julia-1.5"
  },
  "language_info": {
   "file_extension": ".jl",
   "mimetype": "application/julia",
   "name": "julia",
   "version": "1.5.2"
  }
 },
 "nbformat": 4,
 "nbformat_minor": 2
}
